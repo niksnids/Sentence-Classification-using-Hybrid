{
 "cells": [
  {
   "cell_type": "code",
   "execution_count": 1,
   "id": "f3c8fae3",
   "metadata": {},
   "outputs": [],
   "source": [
    "import numpy as np # linear algebra\n",
    "import pandas as pd # data processing, CSV file I/O (e.g. pd.read_csv)\n",
    "# lets import some stuff\n",
    "import numpy as np\n",
    "import pandas as pd\n",
    "from sklearn.feature_extraction.text import CountVectorizer\n",
    "from sklearn.metrics import confusion_matrix, accuracy_score\n",
    "from sklearn.model_selection import train_test_split\n",
    "from keras.preprocessing.text import Tokenizer\n",
    "from keras.preprocessing.sequence import pad_sequences\n",
    "from keras.initializers import Constant\n",
    "from keras.models import Model\n",
    "from keras.layers import *\n",
    "from keras.utils.np_utils import to_categorical\n",
    "import re\n",
    "from keras import regularizers\n",
    "import matplotlib.pyplot as plt\n",
    "import os\n",
    "%matplotlib inline\n",
    "from keras.callbacks import EarlyStopping\n",
    "from keras.models import Sequential\n",
    "from keras import layers\n",
    "from matplotlib import*\n",
    "from plot_keras_history import show_history, plot_history\n",
    "import seaborn as sns\n",
    "from keras.wrappers.scikit_learn import KerasClassifier\n",
    "from sklearn.metrics import classification_report, f1_score, accuracy_score, confusion_matrix\n",
    "from sklearn.model_selection import RandomizedSearchCV"
   ]
  },
  {
   "cell_type": "code",
   "execution_count": 2,
   "id": "0c3e5ec0",
   "metadata": {},
   "outputs": [
    {
     "name": "stdout",
     "output_type": "stream",
     "text": [
      "NVIDIA GeForce RTX 2060\n"
     ]
    }
   ],
   "source": [
    "# confirm  the GPU\n",
    "from torch import cuda\n",
    "assert cuda.is_available()\n",
    "assert cuda.device_count() > 0\n",
    "print(cuda.get_device_name(cuda.current_device()))"
   ]
  },
  {
   "cell_type": "code",
   "execution_count": 3,
   "id": "b6d5c180",
   "metadata": {},
   "outputs": [],
   "source": [
    "max_features = 10000 # this is the number of words we care about"
   ]
  },
  {
   "cell_type": "code",
   "execution_count": 4,
   "id": "40009c95",
   "metadata": {},
   "outputs": [
    {
     "name": "stdout",
     "output_type": "stream",
     "text": [
      "sentence              This live defined as 1 00 Defination\n",
      "section_nr                                               1\n",
      "has_citation                                           0.0\n",
      "last_section_title                              Defination\n",
      "Labels                                          Defination\n",
      "source                                              train3\n",
      "Name: 0, dtype: object\n"
     ]
    }
   ],
   "source": [
    "# read training dataset without rule based feature\n",
    "filepath_dict = {\n",
    "                 'train3':   r'C:\\Users\\nitis\\Sentence classification\\theis_final\\preprocessed_train.csv'\n",
    "                }\n",
    "\n",
    "df_list = []\n",
    "for source, filepath in filepath_dict.items():\n",
    "    df = pd.read_csv(filepath, index_col=0)\n",
    "    df['source'] = source  # Add another column filled with the source name\n",
    "    df_list.append(df)\n",
    "\n",
    "df = pd.concat(df_list)\n",
    "print(df.iloc[0])"
   ]
  },
  {
   "cell_type": "code",
   "execution_count": 5,
   "id": "78ecb7ad",
   "metadata": {},
   "outputs": [],
   "source": [
    "embedding_dim = 200"
   ]
  },
  {
   "cell_type": "code",
   "execution_count": 6,
   "id": "fade1281",
   "metadata": {},
   "outputs": [
    {
     "name": "stdout",
     "output_type": "stream",
     "text": [
      "mean length of sentence: 25.96232650363516\n",
      "max length of sentence: 141\n",
      "std dev length of sentence: 15.493430580410944\n"
     ]
    }
   ],
   "source": [
    "df['l'] = df['sentence'].apply(lambda x: len(str(x).split(' ')))\n",
    "print(\"mean length of sentence: \" + str(df.l.mean()))\n",
    "print(\"max length of sentence: \" + str(df.l.max()))\n",
    "print(\"std dev length of sentence: \" + str(df.l.std()))"
   ]
  },
  {
   "cell_type": "code",
   "execution_count": 7,
   "id": "cbdce360",
   "metadata": {},
   "outputs": [],
   "source": [
    "sequence_length = 141"
   ]
  },
  {
   "cell_type": "code",
   "execution_count": 8,
   "id": "da6e2063",
   "metadata": {},
   "outputs": [
    {
     "data": {
      "text/html": [
       "<div>\n",
       "<style scoped>\n",
       "    .dataframe tbody tr th:only-of-type {\n",
       "        vertical-align: middle;\n",
       "    }\n",
       "\n",
       "    .dataframe tbody tr th {\n",
       "        vertical-align: top;\n",
       "    }\n",
       "\n",
       "    .dataframe thead th {\n",
       "        text-align: right;\n",
       "    }\n",
       "</style>\n",
       "<table border=\"1\" class=\"dataframe\">\n",
       "  <thead>\n",
       "    <tr style=\"text-align: right;\">\n",
       "      <th></th>\n",
       "      <th>sentence</th>\n",
       "      <th>section_nr</th>\n",
       "      <th>has_citation</th>\n",
       "      <th>last_section_title</th>\n",
       "      <th>Labels</th>\n",
       "    </tr>\n",
       "  </thead>\n",
       "  <tbody>\n",
       "    <tr>\n",
       "      <th>0</th>\n",
       "      <td>The aim of this thesis was to gain an understa...</td>\n",
       "      <td>1</td>\n",
       "      <td>0</td>\n",
       "      <td>Research Aim</td>\n",
       "      <td>Aim</td>\n",
       "    </tr>\n",
       "    <tr>\n",
       "      <th>1</th>\n",
       "      <td>The aim is to develop finite element models us...</td>\n",
       "      <td>1</td>\n",
       "      <td>0</td>\n",
       "      <td>Research Objective</td>\n",
       "      <td>Aim</td>\n",
       "    </tr>\n",
       "    <tr>\n",
       "      <th>2</th>\n",
       "      <td>Determine the relationship between the size of...</td>\n",
       "      <td>1</td>\n",
       "      <td>0</td>\n",
       "      <td>Research Objective</td>\n",
       "      <td>Aim</td>\n",
       "    </tr>\n",
       "    <tr>\n",
       "      <th>3</th>\n",
       "      <td>Investigate the influence of nonuniform cup su...</td>\n",
       "      <td>1</td>\n",
       "      <td>0</td>\n",
       "      <td>Research Objective</td>\n",
       "      <td>Aim</td>\n",
       "    </tr>\n",
       "    <tr>\n",
       "      <th>4</th>\n",
       "      <td>Examine the influence of errors during reaming...</td>\n",
       "      <td>1</td>\n",
       "      <td>0</td>\n",
       "      <td>Research Objective</td>\n",
       "      <td>Aim</td>\n",
       "    </tr>\n",
       "    <tr>\n",
       "      <th>...</th>\n",
       "      <td>...</td>\n",
       "      <td>...</td>\n",
       "      <td>...</td>\n",
       "      <td>...</td>\n",
       "      <td>...</td>\n",
       "    </tr>\n",
       "    <tr>\n",
       "      <th>577</th>\n",
       "      <td>the moment of enjoyment on the pattern to rais...</td>\n",
       "      <td>39</td>\n",
       "      <td>0</td>\n",
       "      <td>hypothesis outcome</td>\n",
       "      <td>Hypothesis Result</td>\n",
       "    </tr>\n",
       "    <tr>\n",
       "      <th>578</th>\n",
       "      <td>Information technology substantiate the hypoth...</td>\n",
       "      <td>10</td>\n",
       "      <td>0</td>\n",
       "      <td>hypothesis outcome</td>\n",
       "      <td>Hypothesis Result</td>\n",
       "    </tr>\n",
       "    <tr>\n",
       "      <th>579</th>\n",
       "      <td>information engineering science rejects the su...</td>\n",
       "      <td>10</td>\n",
       "      <td>0</td>\n",
       "      <td>hypothesis outcome</td>\n",
       "      <td>Hypothesis Result</td>\n",
       "    </tr>\n",
       "    <tr>\n",
       "      <th>580</th>\n",
       "      <td>the supposition stern follow agreed on the cor...</td>\n",
       "      <td>10</td>\n",
       "      <td>0</td>\n",
       "      <td>hypothesis outcome</td>\n",
       "      <td>Hypothesis Result</td>\n",
       "    </tr>\n",
       "    <tr>\n",
       "      <th>581</th>\n",
       "      <td>the final result prove the possibility that th...</td>\n",
       "      <td>10</td>\n",
       "      <td>0</td>\n",
       "      <td>hypothesis outcome</td>\n",
       "      <td>Hypothesis Result</td>\n",
       "    </tr>\n",
       "  </tbody>\n",
       "</table>\n",
       "<p>582 rows × 5 columns</p>\n",
       "</div>"
      ],
      "text/plain": [
       "                                              sentence  section_nr  \\\n",
       "0    The aim of this thesis was to gain an understa...           1   \n",
       "1    The aim is to develop finite element models us...           1   \n",
       "2    Determine the relationship between the size of...           1   \n",
       "3    Investigate the influence of nonuniform cup su...           1   \n",
       "4    Examine the influence of errors during reaming...           1   \n",
       "..                                                 ...         ...   \n",
       "577  the moment of enjoyment on the pattern to rais...          39   \n",
       "578  Information technology substantiate the hypoth...          10   \n",
       "579  information engineering science rejects the su...          10   \n",
       "580  the supposition stern follow agreed on the cor...          10   \n",
       "581  the final result prove the possibility that th...          10   \n",
       "\n",
       "     has_citation   last_section_title             Labels  \n",
       "0               0         Research Aim                Aim  \n",
       "1               0   Research Objective                Aim  \n",
       "2               0   Research Objective                Aim  \n",
       "3               0   Research Objective                Aim  \n",
       "4               0   Research Objective                Aim  \n",
       "..            ...                  ...                ...  \n",
       "577             0  hypothesis outcome   Hypothesis Result  \n",
       "578             0  hypothesis outcome   Hypothesis Result  \n",
       "579             0  hypothesis outcome   Hypothesis Result  \n",
       "580             0  hypothesis outcome   Hypothesis Result  \n",
       "581             0  hypothesis outcome   Hypothesis Result  \n",
       "\n",
       "[582 rows x 5 columns]"
      ]
     },
     "execution_count": 8,
     "metadata": {},
     "output_type": "execute_result"
    }
   ],
   "source": [
    "#get test dataset\n",
    "cols = ['sentence', 'section_nr','has_citation','last_section_title','Labels']\n",
    "cols1 = ['sentence', 'section_nr','has_citation','last_section_title']\n",
    "test = pd.read_csv(r'C:\\Users\\nitis\\Sentence classification\\theis_final\\preprocessed_test.csv')\n",
    "test = test[cols]\n",
    "test"
   ]
  },
  {
   "cell_type": "code",
   "execution_count": 9,
   "id": "5138ddf0",
   "metadata": {},
   "outputs": [],
   "source": [
    "sentences_train = df[\"sentence\"].values\n",
    "sentences_test = test[\"sentence\"].values\n",
    "\n",
    "y_train =  pd.get_dummies(df['Labels']).values\n",
    "y_test  = pd.get_dummies(test['Labels']).values"
   ]
  },
  {
   "cell_type": "code",
   "execution_count": 10,
   "id": "2e749abd",
   "metadata": {},
   "outputs": [
    {
     "name": "stdout",
     "output_type": "stream",
     "text": [
      "e set galaxy as the group of star 1 00 Defination\n",
      "[167, 209, 3251, 15, 1, 238, 3, 1204, 10, 2, 1460]\n"
     ]
    }
   ],
   "source": [
    "\n",
    "tokenizer = Tokenizer(num_words=5000)\n",
    "tokenizer.fit_on_texts(sentences_train)\n",
    "\n",
    "X_train = tokenizer.texts_to_sequences(sentences_train)\n",
    "X_test = tokenizer.texts_to_sequences(sentences_test)\n",
    "\n",
    "vocab_size = len(tokenizer.word_index) + 1  # Adding 1 because of reserved 0 index\n",
    "\n",
    "print(sentences_train[2])\n",
    "print(X_train[2])"
   ]
  },
  {
   "cell_type": "code",
   "execution_count": 11,
   "id": "38355ab9",
   "metadata": {},
   "outputs": [
    {
     "name": "stdout",
     "output_type": "stream",
     "text": [
      "[  17  354  505   15   10    2 1460    0    0    0    0    0    0    0\n",
      "    0    0    0    0    0    0    0    0    0    0    0    0    0    0\n",
      "    0    0    0    0    0    0    0    0    0    0    0    0    0    0\n",
      "    0    0    0    0    0    0    0    0    0    0    0    0    0    0\n",
      "    0    0    0    0    0    0    0    0    0    0    0    0    0    0\n",
      "    0    0    0    0    0    0    0    0    0    0    0    0    0    0\n",
      "    0    0    0    0    0    0    0    0    0    0    0    0    0    0\n",
      "    0    0    0    0    0    0    0    0    0    0    0    0    0    0\n",
      "    0    0    0    0    0    0    0    0    0    0    0    0    0    0\n",
      "    0    0    0    0    0    0    0    0    0    0    0    0    0    0\n",
      "    0]\n"
     ]
    }
   ],
   "source": [
    "X_train = pad_sequences(X_train, padding='post', maxlen=sequence_length)\n",
    "X_test = pad_sequences(X_test, padding='post', maxlen=sequence_length)\n",
    "\n",
    "print(X_train[0, :])"
   ]
  },
  {
   "cell_type": "code",
   "execution_count": 12,
   "id": "54852665",
   "metadata": {},
   "outputs": [
    {
     "name": "stdout",
     "output_type": "stream",
     "text": [
      "Found 400000 word vectors.\n"
     ]
    }
   ],
   "source": [
    "embeddings_index = {}\n",
    "f = open(os.path.join('C:\\\\Users\\\\nitis\\\\OneDrive\\\\Desktop\\\\thesis', 'glove.6B.200d.txt'), encoding=\"utf8\")\n",
    "for line in f:\n",
    "    values = line.split()\n",
    "    word = values[0]\n",
    "    coefs = np.asarray(values[1:], dtype='float32')\n",
    "    embeddings_index[word] = coefs\n",
    "f.close()\n",
    "\n",
    "print('Found %s word vectors.' % len(embeddings_index))"
   ]
  },
  {
   "cell_type": "code",
   "execution_count": 13,
   "id": "b7585f36",
   "metadata": {},
   "outputs": [
    {
     "name": "stdout",
     "output_type": "stream",
     "text": [
      "Found 10958 unique tokens.\n"
     ]
    }
   ],
   "source": [
    "word_index = tokenizer.word_index\n",
    "print('Found %s unique tokens.' % len(word_index))"
   ]
  },
  {
   "cell_type": "code",
   "execution_count": 14,
   "id": "0c948384",
   "metadata": {},
   "outputs": [
    {
     "name": "stdout",
     "output_type": "stream",
     "text": [
      "10001\n"
     ]
    }
   ],
   "source": [
    "num_words = min(max_features, len(word_index)) + 1\n",
    "print(num_words)\n",
    "\n",
    "# first create a matrix of zeros, this is our embedding matrix\n",
    "embedding_matrix = np.zeros((num_words, embedding_dim))\n",
    "\n",
    "# for each word in out tokenizer lets try to find that work in our w2v model\n",
    "for word, i in word_index.items():\n",
    "    if i > max_features:\n",
    "        continue\n",
    "    embedding_vector = embeddings_index.get(word)\n",
    "    if embedding_vector is not None:\n",
    "        # we found the word - add that words vector to the matrix\n",
    "        embedding_matrix[i] = embedding_vector\n",
    "    else:\n",
    "        # doesn't exist, assign a random vector\n",
    "        embedding_matrix[i] = np.random.randn(embedding_dim)"
   ]
  },
  {
   "cell_type": "code",
   "execution_count": 15,
   "id": "759eced7",
   "metadata": {},
   "outputs": [
    {
     "name": "stdout",
     "output_type": "stream",
     "text": [
      "Model: \"sequential\"\n",
      "_________________________________________________________________\n",
      " Layer (type)                Output Shape              Param #   \n",
      "=================================================================\n",
      " embedding (Embedding)       (None, 141, 200)          2000200   \n",
      "                                                                 \n",
      " conv1d (Conv1D)             (None, 139, 64)           38464     \n",
      "                                                                 \n",
      " global_max_pooling1d (Globa  (None, 64)               0         \n",
      " lMaxPooling1D)                                                  \n",
      "                                                                 \n",
      " flatten (Flatten)           (None, 64)                0         \n",
      "                                                                 \n",
      " dense (Dense)               (None, 64)                4160      \n",
      "                                                                 \n",
      " dense_1 (Dense)             (None, 12)                780       \n",
      "                                                                 \n",
      "=================================================================\n",
      "Total params: 2,043,604\n",
      "Trainable params: 2,043,604\n",
      "Non-trainable params: 0\n",
      "_________________________________________________________________\n"
     ]
    }
   ],
   "source": [
    "# use the Embedding Layer of Keras which takes the previously calculated integers and maps them to a dense vector of the embedding. You will need the following parameters:\n",
    "\n",
    "model = Sequential()\n",
    "model.add(layers.Embedding(num_words, embedding_dim,embeddings_initializer=Constant(embedding_matrix),\n",
    "                           input_length=sequence_length,trainable=True))\n",
    "model.add(layers.Conv1D(64,3, activation='relu', kernel_regularizer=regularizers.l2(3)))\n",
    "\n",
    "model.add(layers.GlobalMaxPooling1D())\n",
    "model.add(Flatten())\n",
    "model.add(layers.Dense(64, activation='relu'))\n",
    "model.add(layers.Dense(12, activation='softmax'))\n",
    "model.compile(optimizer='adam',loss='categorical_crossentropy',metrics=['accuracy'])\n",
    "model.summary()\n"
   ]
  },
  {
   "cell_type": "code",
   "execution_count": 16,
   "id": "a6a52f75",
   "metadata": {
    "scrolled": true
   },
   "outputs": [
    {
     "name": "stdout",
     "output_type": "stream",
     "text": [
      "Epoch 1/5\n",
      "364/364 [==============================] - 6s 6ms/step - loss: 21.6761 - accuracy: 0.5127 - val_loss: 2.2643 - val_accuracy: 0.2990\n",
      "Epoch 2/5\n",
      "364/364 [==============================] - 2s 5ms/step - loss: 0.8445 - accuracy: 0.8481 - val_loss: 1.9875 - val_accuracy: 0.3814\n",
      "Epoch 3/5\n",
      "364/364 [==============================] - 2s 5ms/step - loss: 0.5845 - accuracy: 0.8907 - val_loss: 2.2892 - val_accuracy: 0.4244\n",
      "Epoch 4/5\n",
      "364/364 [==============================] - 2s 5ms/step - loss: 0.5358 - accuracy: 0.8998 - val_loss: 1.9015 - val_accuracy: 0.5687\n",
      "Epoch 5/5\n",
      "364/364 [==============================] - 2s 5ms/step - loss: 0.4948 - accuracy: 0.9178 - val_loss: 2.1684 - val_accuracy: 0.4570\n",
      "Training Accuracy: 0.9177\n",
      "Testing Accuracy:  0.4570\n"
     ]
    },
    {
     "data": {
      "text/plain": [
       "(<Figure size 720x360 with 2 Axes>,\n",
       " array([<AxesSubplot:title={'center':'Loss'}, xlabel='Epochs', ylabel='Loss'>,\n",
       "        <AxesSubplot:title={'center':'Accuracy'}, xlabel='Epochs', ylabel='Accuracy'>],\n",
       "       dtype=object))"
      ]
     },
     "execution_count": 16,
     "metadata": {},
     "output_type": "execute_result"
    },
    {
     "data": {
      "image/png": "[encoded data removed]",
      "text/plain": [
       "<Figure size 720x360 with 2 Axes>"
      ]
     },
     "metadata": {
      "needs_background": "light"
     },
     "output_type": "display_data"
    }
   ],
   "source": [
    "history = model.fit(X_train, y_train,\n",
    "                    epochs=5,\n",
    "                    verbose=True,\n",
    "                    validation_data=(X_test, y_test),\n",
    "                    batch_size=50)\n",
    "\n",
    "loss, accuracy = model.evaluate(X_train, y_train, verbose=False)\n",
    "print(\"Training Accuracy: {:.4f}\".format(accuracy))\n",
    "loss, accuracy = model.evaluate(X_test, y_test, verbose=False)\n",
    "print(\"Testing Accuracy:  {:.4f}\".format(accuracy))\n",
    "plot_history(history)"
   ]
  },
  {
   "cell_type": "code",
   "execution_count": 17,
   "id": "654812b8",
   "metadata": {},
   "outputs": [
    {
     "data": {
      "text/html": [
       "<div>\n",
       "<style scoped>\n",
       "    .dataframe tbody tr th:only-of-type {\n",
       "        vertical-align: middle;\n",
       "    }\n",
       "\n",
       "    .dataframe tbody tr th {\n",
       "        vertical-align: top;\n",
       "    }\n",
       "\n",
       "    .dataframe thead th {\n",
       "        text-align: right;\n",
       "    }\n",
       "</style>\n",
       "<table border=\"1\" class=\"dataframe\">\n",
       "  <thead>\n",
       "    <tr style=\"text-align: right;\">\n",
       "      <th></th>\n",
       "      <th>Labels</th>\n",
       "    </tr>\n",
       "  </thead>\n",
       "  <tbody>\n",
       "    <tr>\n",
       "      <th>10017</th>\n",
       "      <td>Aim</td>\n",
       "    </tr>\n",
       "    <tr>\n",
       "      <th>2056</th>\n",
       "      <td>Contribution</td>\n",
       "    </tr>\n",
       "    <tr>\n",
       "      <th>0</th>\n",
       "      <td>Defination</td>\n",
       "    </tr>\n",
       "    <tr>\n",
       "      <th>10125</th>\n",
       "      <td>Emperical Result</td>\n",
       "    </tr>\n",
       "    <tr>\n",
       "      <th>2018</th>\n",
       "      <td>Future work</td>\n",
       "    </tr>\n",
       "    <tr>\n",
       "      <th>3</th>\n",
       "      <td>Hypothesis</td>\n",
       "    </tr>\n",
       "    <tr>\n",
       "      <th>13</th>\n",
       "      <td>Hypothesis Result</td>\n",
       "    </tr>\n",
       "    <tr>\n",
       "      <th>9852</th>\n",
       "      <td>Method</td>\n",
       "    </tr>\n",
       "    <tr>\n",
       "      <th>9976</th>\n",
       "      <td>Motivation</td>\n",
       "    </tr>\n",
       "    <tr>\n",
       "      <th>662</th>\n",
       "      <td>Relation to literature</td>\n",
       "    </tr>\n",
       "    <tr>\n",
       "      <th>2132</th>\n",
       "      <td>Research Question</td>\n",
       "    </tr>\n",
       "    <tr>\n",
       "      <th>2109</th>\n",
       "      <td>limitation</td>\n",
       "    </tr>\n",
       "  </tbody>\n",
       "</table>\n",
       "</div>"
      ],
      "text/plain": [
       "                       Labels\n",
       "10017                     Aim\n",
       "2056             Contribution\n",
       "0                  Defination\n",
       "10125        Emperical Result\n",
       "2018              Future work\n",
       "3                  Hypothesis\n",
       "13          Hypothesis Result\n",
       "9852                   Method\n",
       "9976               Motivation\n",
       "662    Relation to literature\n",
       "2132        Research Question\n",
       "2109               limitation"
      ]
     },
     "execution_count": 17,
     "metadata": {},
     "output_type": "execute_result"
    }
   ],
   "source": [
    "category_id_df = df[['Labels']].drop_duplicates().sort_values('Labels')\n",
    "category_id_df"
   ]
  },
  {
   "cell_type": "code",
   "execution_count": 18,
   "id": "b276fe1e",
   "metadata": {},
   "outputs": [],
   "source": [
    "y_predict = model.predict(X_test)"
   ]
  },
  {
   "cell_type": "code",
   "execution_count": 19,
   "id": "60e43e5d",
   "metadata": {},
   "outputs": [
    {
     "data": {
      "text/plain": [
       "array([[ 6,  0,  0,  0,  0,  0,  0,  0,  0, 12,  0,  0],\n",
       "       [ 0, 23,  0,  0,  0,  0,  0,  0,  0, 34,  0,  0],\n",
       "       [10,  0, 11,  0,  0,  0,  0,  0,  0,  4,  0,  0],\n",
       "       [ 0,  0,  0,  0,  0,  0,  0,  0,  0, 46,  0,  0],\n",
       "       [ 0,  3,  1,  0, 29,  1,  0,  0,  0, 39,  6, 17],\n",
       "       [15,  0,  7,  0,  0, 40,  0,  1,  1,  6,  0,  0],\n",
       "       [ 0,  0,  0,  2,  0, 30,  1,  1,  0,  9,  0,  0],\n",
       "       [ 0,  0,  1,  0,  0,  0,  0, 31,  0, 10,  1,  0],\n",
       "       [ 8,  0,  0,  0,  0,  0,  0,  0, 10,  0,  6,  0],\n",
       "       [ 3,  0,  0,  0,  0,  0,  0,  6,  0, 26,  7, 12],\n",
       "       [ 2,  0,  2,  0,  0,  0,  0,  0,  3,  1, 59,  0],\n",
       "       [ 0,  0,  0,  0,  0,  0,  0,  3,  0,  5,  1, 30]], dtype=int64)"
      ]
     },
     "execution_count": 19,
     "metadata": {},
     "output_type": "execute_result"
    }
   ],
   "source": [
    "confusion_matrix(list(map(lambda x: np.argmax(x), y_test)), list(map(lambda x: np.argmax(x), y_predict)))"
   ]
  },
  {
   "cell_type": "code",
   "execution_count": 20,
   "id": "d1f16ade",
   "metadata": {},
   "outputs": [],
   "source": [
    "from sklearn.metrics import confusion_matrix\n",
    "\n",
    "Y_prediction = model.predict(X_test)\n",
    "\n",
    "# Convert predictions classes to one hot vectors \n",
    "Y_pred_classes = np.argmax(Y_prediction,axis = 1)\n",
    "\n",
    "# Convert validation observations to one hot vectors\n",
    "Y_true = np.argmax(y_test,axis = 1) \n",
    "# compute the confusion matrix\n",
    "confusion_mtx = confusion_matrix(Y_true, Y_pred_classes) "
   ]
  },
  {
   "cell_type": "code",
   "execution_count": 21,
   "id": "e4ccd393",
   "metadata": {},
   "outputs": [
    {
     "data": {
      "image/png": "[encoded data removed]",
      "text/plain": [
       "<Figure size 720x576 with 2 Axes>"
      ]
     },
     "metadata": {
      "needs_background": "light"
     },
     "output_type": "display_data"
    }
   ],
   "source": [
    "plt.figure(figsize=(10,8))\n",
    "sns.heatmap(confusion_mtx, annot=True, fmt=\"d\");"
   ]
  },
  {
   "cell_type": "markdown",
   "id": "88e15b08",
   "metadata": {},
   "source": [
    "# HYPERPARAMETER TUNING"
   ]
  },
  {
   "cell_type": "code",
   "execution_count": 155,
   "id": "fd9c4c7c",
   "metadata": {},
   "outputs": [
    {
     "name": "stderr",
     "output_type": "stream",
     "text": [
      "C:\\Users\\nitis\\AppData\\Local\\Temp/ipykernel_9496/4040403375.py:21: DeprecationWarning: KerasClassifier is deprecated, use Sci-Keras (https://github.com/adriangb/scikeras) instead.\n",
      "  model = KerasClassifier(build_fn=create_model,epochs=epochs, batch_size=50,verbose=False)\n"
     ]
    },
    {
     "name": "stdout",
     "output_type": "stream",
     "text": [
      "Fitting 4 folds for each of 5 candidates, totalling 20 fits\n",
      "Best: 0.828156 using {'vocab_size': 13501, 'num_filters': 64, 'maxlen': 181, 'kernel_size': 3, 'embedding_dim': 200}\n",
      "0.814607 (0.126261) with: {'vocab_size': 13501, 'num_filters': 128, 'maxlen': 181, 'kernel_size': 5, 'embedding_dim': 200}\n",
      "0.814276 (0.124300) with: {'vocab_size': 13501, 'num_filters': 64, 'maxlen': 181, 'kernel_size': 7, 'embedding_dim': 200}\n",
      "0.828156 (0.139791) with: {'vocab_size': 13501, 'num_filters': 64, 'maxlen': 181, 'kernel_size': 3, 'embedding_dim': 200}\n",
      "0.825292 (0.141421) with: {'vocab_size': 13501, 'num_filters': 32, 'maxlen': 181, 'kernel_size': 5, 'embedding_dim': 200}\n",
      "0.817471 (0.132545) with: {'vocab_size': 13501, 'num_filters': 16, 'maxlen': 181, 'kernel_size': 3, 'embedding_dim': 200}\n"
     ]
    }
   ],
   "source": [
    "def create_model(num_filters, kernel_size, vocab_size, embedding_dim, maxlen):\n",
    "    model = Sequential()\n",
    "    model.add(layers.Embedding(num_words, embedding_dim,embeddings_initializer=Constant(embedding_matrix),\n",
    "                           input_length=sequence_length,trainable=True))\n",
    "    model.add(layers.Conv1D(num_filters, kernel_size, activation='relu', kernel_regularizer=regularizers.l2(3)))\n",
    "    model.add(layers.GlobalMaxPooling1D())\n",
    "    model.add(layers.Dense(64,activation='relu'))\n",
    "    model.add(layers.Dense(12, activation='softmax'))\n",
    "    model.compile(optimizer='adam',\n",
    "                  loss='categorical_crossentropy',\n",
    "                  metrics=['accuracy'])\n",
    "    return model\n",
    "\n",
    "# fix random seed for reproducibility\n",
    "seed = 7\n",
    "numpy.random.seed(seed)\n",
    "\n",
    "# Main settings\n",
    "epochs = 5\n",
    "maxlen = sequence_length\n",
    "model = KerasClassifier(build_fn=create_model,epochs=epochs, batch_size=50,verbose=False)\n",
    "\n",
    "param_grid = dict(num_filters=[16, 32, 64, 128],\n",
    "                  kernel_size=[3, 5, 7],\n",
    "                  vocab_size=[13501], \n",
    "                  embedding_dim=[200],\n",
    "                  maxlen=[181],\n",
    "                 )\n",
    "\n",
    "grid = RandomizedSearchCV(estimator=model, param_distributions=param_grid,cv=4, verbose=1, n_iter=5)\n",
    "grid_result = grid.fit(X_train, y_train)\n",
    "# Evaluate testing set\n",
    "test_accuracy = grid.score(X_test, y_test)\n",
    "\n",
    "# summarize results\n",
    "print(\"Best: %f using %s\" % (grid_result.best_score_, grid_result.best_params_))\n",
    "means = grid_result.cv_results_['mean_test_score']\n",
    "stds = grid_result.cv_results_['std_test_score']\n",
    "params = grid_result.cv_results_['params']\n",
    "for mean, stdev, param in zip(means, stds, params):\n",
    "    print(\"%f (%f) with: %r\" % (mean, stdev, param))"
   ]
  },
  {
   "cell_type": "code",
   "execution_count": 156,
   "id": "7a40e5cb",
   "metadata": {},
   "outputs": [
    {
     "name": "stdout",
     "output_type": "stream",
     "text": [
      "0.828155979514122\n",
      "{'vocab_size': 13501, 'num_filters': 64, 'maxlen': 181, 'kernel_size': 3, 'embedding_dim': 200}\n",
      "0.4862543046474457\n"
     ]
    }
   ],
   "source": [
    "print(grid_result.best_score_)\n",
    "print(grid_result.best_params_)\n",
    "print(test_accuracy)"
   ]
  },
  {
   "cell_type": "code",
   "execution_count": null,
   "id": "8983937d",
   "metadata": {},
   "outputs": [],
   "source": []
  }
 ],
 "metadata": {
  "kernelspec": {
   "display_name": "Python [conda env:torch] *",
   "language": "python",
   "name": "conda-env-torch-py"
  },
  "language_info": {
   "codemirror_mode": {
    "name": "ipython",
    "version": 3
   },
   "file_extension": ".py",
   "mimetype": "text/x-python",
   "name": "python",
   "nbconvert_exporter": "python",
   "pygments_lexer": "ipython3",
   "version": "3.8.12"
  }
 },
 "nbformat": 4,
 "nbformat_minor": 5
}
