{
 "cells": [
  {
   "cell_type": "code",
   "execution_count": 16,
   "id": "f6803ac0",
   "metadata": {},
   "outputs": [],
   "source": [
    "import warnings\n",
    "warnings.filterwarnings('ignore')\n",
    "import pandas as pd\n",
    "import numpy as np\n",
    "import matplotlib.pyplot as plt\n",
    "import pandas as pd\n",
    "from sklearn.linear_model import LogisticRegression\n",
    "from sklearn.naive_bayes import MultinomialNB\n",
    "from sklearn.metrics import classification_report, f1_score, accuracy_score, confusion_matrix\n",
    "from sklearn.metrics import roc_curve, auc, roc_auc_score\n",
    "from sklearn.feature_extraction.text import TfidfVectorizer\n",
    "from sklearn.linear_model import LogisticRegression\n",
    "from sklearn.ensemble import RandomForestClassifier\n",
    "from sklearn.svm import LinearSVC\n",
    "from sklearn.model_selection import cross_val_score\n",
    "from sklearn.feature_selection import chi2\n",
    "import numpy as np\n",
    "from sklearn.pipeline import Pipeline\n",
    "from sklearn.feature_extraction.text import TfidfTransformer\n",
    "from sklearn.feature_extraction.text import CountVectorizer, TfidfVectorizer\n",
    "from sklearn.feature_selection import SelectKBest, chi2"
   ]
  },
  {
   "cell_type": "code",
   "execution_count": 2,
   "id": "f44ca5f2",
   "metadata": {},
   "outputs": [],
   "source": [
    "#get non rule based training and testing dataset\n",
    "df1 = pd.read_csv(r'C:\\Users\\nitis\\Sentence classification\\theis_final\\preprocessed_train.csv')\n",
    "test = pd.read_csv(r'C:\\Users\\nitis\\Sentence classification\\theis_final\\preprocessed_test.csv')"
   ]
  },
  {
   "cell_type": "code",
   "execution_count": 23,
   "id": "a32919e8",
   "metadata": {},
   "outputs": [
    {
     "data": {
      "text/plain": [
       "Hypothesis Result         2016\n",
       "Aim                       1744\n",
       "Research Question         1712\n",
       "Contribution              1680\n",
       "Hypothesis                1674\n",
       "Defination                1512\n",
       "Emperical Result          1476\n",
       "Relation to literature    1452\n",
       "Motivation                1360\n",
       "limitation                1284\n",
       "Future work               1170\n",
       "Method                    1076\n",
       "Name: Labels, dtype: int64"
      ]
     },
     "execution_count": 23,
     "metadata": {},
     "output_type": "execute_result"
    }
   ],
   "source": [
    "df1[\"Labels\"].value_counts()"
   ]
  },
  {
   "cell_type": "code",
   "execution_count": 3,
   "id": "4e588756",
   "metadata": {},
   "outputs": [],
   "source": [
    "# dataframe for training and testing with input and output labels\n",
    "X_train = df1['sentence']\n",
    "y_train = df1['Labels']\n",
    "X_test = test['sentence']\n",
    "y_test = test['Labels']"
   ]
  },
  {
   "cell_type": "markdown",
   "id": "fb45ed70",
   "metadata": {},
   "source": [
    "# NAIVE BAYES"
   ]
  },
  {
   "cell_type": "code",
   "execution_count": 21,
   "id": "26ad3cfe",
   "metadata": {},
   "outputs": [
    {
     "name": "stdout",
     "output_type": "stream",
     "text": [
      "accuracy 0.32646048109965636\n",
      "                        precision    recall  f1-score   support\n",
      "\n",
      "                   Aim       0.06      0.56      0.11        18\n",
      "          Contribution       0.54      0.25      0.34        57\n",
      "            Defination       0.55      0.24      0.33        25\n",
      "      Emperical Result       0.47      0.61      0.53        46\n",
      "           Future work       0.90      0.19      0.31        96\n",
      "            Hypothesis       0.12      0.04      0.06        70\n",
      "     Hypothesis Result       0.50      0.09      0.16        43\n",
      "                Method       0.47      0.21      0.29        43\n",
      "            Motivation       0.07      0.21      0.11        24\n",
      "Relation to literature       0.17      0.06      0.08        54\n",
      "     Research Question       0.59      0.97      0.73        67\n",
      "            limitation       0.53      0.64      0.58        39\n",
      "\n",
      "              accuracy                           0.33       582\n",
      "             macro avg       0.41      0.34      0.30       582\n",
      "          weighted avg       0.47      0.33      0.32       582\n",
      "\n",
      "Confusion Matrix: [[10  1  0  0  0  0  0  0  0  2  5  0]\n",
      " [19 14  0 11  0  0  0  0  9  4  0  0]\n",
      " [ 7  3  6  0  0  0  0  0  6  3  0  0]\n",
      " [ 8  2  2 28  0  0  0  0  2  3  0  1]\n",
      " [31  1  0  3 18  0  0  0 13  0 18 12]\n",
      " [35  0  1  5  0  3  3  4 17  0  2  0]\n",
      " [ 5  4  0  6  0 22  4  0  2  0  0  0]\n",
      " [27  0  1  0  0  0  0  9  1  3  2  0]\n",
      " [ 9  0  0  0  0  0  1  0  5  0  9  0]\n",
      " [15  0  1  4  0  0  0  4 11  3  7  9]\n",
      " [ 2  0  0  0  0  0  0  0  0  0 65  0]\n",
      " [ 4  1  0  2  2  0  0  2  1  0  2 25]]\n"
     ]
    }
   ],
   "source": [
    "nb = Pipeline([('vect', CountVectorizer()),\n",
    "               ('tfidf', TfidfTransformer()),\n",
    "                ('chi',  SelectKBest(chi2, k=1200)),\n",
    "               ('clf', MultinomialNB()),\n",
    "              ])\n",
    "nb.fit(X_train, y_train)\n",
    "\n",
    "\n",
    "from sklearn.metrics import classification_report\n",
    "y_pred = nb.predict(X_test)\n",
    "\n",
    "print('accuracy %s' % accuracy_score(y_pred, y_test))\n",
    "print(classification_report(y_test,y_pred))\n",
    "print('Confusion Matrix:',confusion_matrix(y_test, y_pred))"
   ]
  },
  {
   "cell_type": "markdown",
   "id": "d65fa7e7",
   "metadata": {},
   "source": [
    "# Linear Support Vector Machine"
   ]
  },
  {
   "cell_type": "code",
   "execution_count": 20,
   "id": "ec205281",
   "metadata": {},
   "outputs": [
    {
     "name": "stdout",
     "output_type": "stream",
     "text": [
      "accuracy 0.6254295532646048\n",
      "                        precision    recall  f1-score   support\n",
      "\n",
      "                   Aim       0.19      0.33      0.24        18\n",
      "          Contribution       0.92      0.98      0.95        57\n",
      "            Defination       0.53      0.40      0.45        25\n",
      "      Emperical Result       0.60      0.87      0.71        46\n",
      "           Future work       0.93      0.83      0.88        96\n",
      "            Hypothesis       0.59      0.57      0.58        70\n",
      "     Hypothesis Result       0.00      0.00      0.00        43\n",
      "                Method       0.81      0.67      0.73        43\n",
      "            Motivation       0.12      0.17      0.14        24\n",
      "Relation to literature       0.17      0.06      0.08        54\n",
      "     Research Question       0.71      0.93      0.81        67\n",
      "            limitation       0.46      0.87      0.60        39\n",
      "\n",
      "              accuracy                           0.63       582\n",
      "             macro avg       0.50      0.56      0.51       582\n",
      "          weighted avg       0.58      0.63      0.59       582\n",
      "\n",
      "Confusion Matrix: [[ 6  0  0  0  0  0  0  0  0  2 10  0]\n",
      " [ 0 56  0  0  0  0  0  0  0  1  0  0]\n",
      " [ 0  3 10  0  0  0  0  0  9  3  0  0]\n",
      " [ 0  0  0 40  2  0  0  0  0  4  0  0]\n",
      " [ 0  0  0  0 80  0  0  0  7  0  1  8]\n",
      " [ 6  0  7  1  0 40  1  3 11  1  0  0]\n",
      " [ 0  0  0 16  1 25  0  0  0  1  0  0]\n",
      " [ 3  0  0  4  0  3  0 29  0  3  1  0]\n",
      " [12  0  0  4  0  0  1  0  4  0  3  0]\n",
      " [ 3  2  0  2  0  0  0  3  0  3  9 32]\n",
      " [ 2  0  2  0  0  0  0  0  1  0 62  0]\n",
      " [ 0  0  0  0  3  0  0  1  0  0  1 34]]\n"
     ]
    }
   ],
   "source": [
    "from sklearn.linear_model import SGDClassifier\n",
    "\n",
    "sgd = Pipeline([('vect', CountVectorizer()),\n",
    "                ('tfidf', TfidfTransformer()),\n",
    "                 ('chi',  SelectKBest(chi2, k=1200)),\n",
    "                ('clf', SGDClassifier(loss='hinge', penalty='l2',alpha=1e-3, random_state=42, max_iter=5, tol=None)),\n",
    "               ])\n",
    "sgd.fit(X_train, y_train)\n",
    "\n",
    "\n",
    "y_pred = sgd.predict(X_test)\n",
    "\n",
    "print('accuracy %s' % accuracy_score(y_pred, y_test))\n",
    "print(classification_report(y_test,y_pred))\n",
    "print('Confusion Matrix:',confusion_matrix(y_test, y_pred))"
   ]
  },
  {
   "cell_type": "markdown",
   "id": "8f2a31ec",
   "metadata": {},
   "source": [
    "# LOGISTIC REGRESSION"
   ]
  },
  {
   "cell_type": "code",
   "execution_count": 19,
   "id": "018370f1",
   "metadata": {},
   "outputs": [
    {
     "name": "stdout",
     "output_type": "stream",
     "text": [
      "accuracy 0.5910652920962199\n",
      "                        precision    recall  f1-score   support\n",
      "\n",
      "                   Aim       0.25      0.78      0.38        18\n",
      "          Contribution       0.91      0.75      0.83        57\n",
      "            Defination       0.27      0.28      0.27        25\n",
      "      Emperical Result       0.68      0.85      0.76        46\n",
      "           Future work       0.81      0.79      0.80        96\n",
      "            Hypothesis       0.43      0.26      0.32        70\n",
      "     Hypothesis Result       0.00      0.00      0.00        43\n",
      "                Method       0.56      0.93      0.70        43\n",
      "            Motivation       0.26      0.67      0.38        24\n",
      "Relation to literature       0.00      0.00      0.00        54\n",
      "     Research Question       0.95      0.88      0.91        67\n",
      "            limitation       0.59      0.82      0.69        39\n",
      "\n",
      "              accuracy                           0.59       582\n",
      "             macro avg       0.48      0.58      0.50       582\n",
      "          weighted avg       0.55      0.59      0.55       582\n",
      "\n",
      "Confusion Matrix: [[14  0  0  0  0  0  0  1  0  2  1  0]\n",
      " [ 5 43  0  1  0  0  0  1  0  7  0  0]\n",
      " [ 1  3  7  0  0  0  0  3 11  0  0  0]\n",
      " [ 2  0  0 39  2  0  0  1  0  2  0  0]\n",
      " [ 5  0  0  0 76  0  0  5  9  0  0  1]\n",
      " [10  0 15  1  0 18  0  5 21  0  0  0]\n",
      " [ 2  1  0 15  0 24  0  0  0  1  0  0]\n",
      " [ 3  0  0  0  0  0  0 40  0  0  0  0]\n",
      " [ 7  0  0  0  0  0  0  1 16  0  0  0]\n",
      " [ 4  0  0  1 12  0  0 12  2  0  2 21]\n",
      " [ 3  0  2  0  1  0  0  0  2  0 59  0]\n",
      " [ 0  0  2  0  3  0  0  2  0  0  0 32]]\n"
     ]
    }
   ],
   "source": [
    "from sklearn.linear_model import LogisticRegression\n",
    "\n",
    "logreg = Pipeline([('vect', CountVectorizer()),\n",
    "                ('tfidf', TfidfTransformer()),\n",
    "                    ('chi',  SelectKBest(chi2, k=1200)),\n",
    "                ('clf', LogisticRegression(n_jobs=1, C=1e5)),\n",
    "               ])\n",
    "logreg.fit(X_train, y_train)\n",
    "\n",
    "\n",
    "\n",
    "y_pred = logreg.predict(X_test)\n",
    "\n",
    "print('accuracy %s' % accuracy_score(y_pred, y_test))\n",
    "print(classification_report(y_test,y_pred))\n",
    "print('Confusion Matrix:',confusion_matrix(y_test, y_pred))"
   ]
  },
  {
   "cell_type": "markdown",
   "id": "c3e3bb7c",
   "metadata": {},
   "source": [
    "# Random Forest"
   ]
  },
  {
   "cell_type": "code",
   "execution_count": 18,
   "id": "9ed39ef2",
   "metadata": {},
   "outputs": [
    {
     "name": "stdout",
     "output_type": "stream",
     "text": [
      "accuracy 0.6030927835051546\n",
      "                        precision    recall  f1-score   support\n",
      "\n",
      "                   Aim       0.16      0.33      0.21        18\n",
      "          Contribution       0.91      0.89      0.90        57\n",
      "            Defination       0.31      0.16      0.21        25\n",
      "      Emperical Result       0.68      0.93      0.79        46\n",
      "           Future work       0.93      0.72      0.81        96\n",
      "            Hypothesis       0.57      0.54      0.55        70\n",
      "     Hypothesis Result       0.00      0.00      0.00        43\n",
      "                Method       0.63      0.91      0.74        43\n",
      "            Motivation       0.12      0.21      0.16        24\n",
      "Relation to literature       0.17      0.04      0.06        54\n",
      "     Research Question       0.68      0.88      0.77        67\n",
      "            limitation       0.50      0.90      0.64        39\n",
      "\n",
      "              accuracy                           0.60       582\n",
      "             macro avg       0.47      0.54      0.49       582\n",
      "          weighted avg       0.56      0.60      0.57       582\n",
      "\n",
      "Confusion Matrix: [[ 6  0  0  0  0  0  0  2  0  0 10  0]\n",
      " [ 0 51  0  0  0  0  0  0  0  6  0  0]\n",
      " [ 3  3  4  0  0  0  0  0 12  3  0  0]\n",
      " [ 0  0  0 43  2  0  0  0  0  1  0  0]\n",
      " [ 3  1  0  2 69  0  0  9  3  0  4  5]\n",
      " [ 7  0  7  0  0 38  0  1 17  0  0  0]\n",
      " [ 0  1  0 13  0 29  0  0  0  0  0  0]\n",
      " [ 1  0  0  2  0  0  0 39  0  0  1  0]\n",
      " [11  0  0  0  0  0  0  5  5  0  3  0]\n",
      " [ 1  0  0  3  0  0  0  6  3  2  9 30]\n",
      " [ 6  0  2  0  0  0  0  0  0  0 59  0]\n",
      " [ 0  0  0  0  3  0  0  0  0  0  1 35]]\n"
     ]
    }
   ],
   "source": [
    "rf = Pipeline([('vect', CountVectorizer()),\n",
    "                ('tfidf', TfidfTransformer()),\n",
    "                     ('chi',  SelectKBest(chi2, k=1200)),\n",
    "                     ('clf', RandomForestClassifier())])\n",
    "\n",
    "\n",
    "rf.fit(X_train, y_train)\n",
    "y_pred = rf.predict(X_test)\n",
    "\n",
    "print('accuracy %s' % accuracy_score(y_pred, y_test))\n",
    "print(classification_report(y_test,y_pred))\n",
    "print('Confusion Matrix:',confusion_matrix(y_test, y_pred))"
   ]
  },
  {
   "cell_type": "code",
   "execution_count": null,
   "id": "81afae73",
   "metadata": {},
   "outputs": [],
   "source": []
  }
 ],
 "metadata": {
  "kernelspec": {
   "display_name": "Python [conda env:torch] *",
   "language": "python",
   "name": "conda-env-torch-py"
  },
  "language_info": {
   "codemirror_mode": {
    "name": "ipython",
    "version": 3
   },
   "file_extension": ".py",
   "mimetype": "text/x-python",
   "name": "python",
   "nbconvert_exporter": "python",
   "pygments_lexer": "ipython3",
   "version": "3.8.12"
  }
 },
 "nbformat": 4,
 "nbformat_minor": 5
}
